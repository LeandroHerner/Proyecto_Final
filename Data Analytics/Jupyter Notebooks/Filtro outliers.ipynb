{
 "cells": [
  {
   "cell_type": "code",
   "execution_count": 1,
   "metadata": {},
   "outputs": [],
   "source": [
    "import pandas as pd\n",
    "import matplotlib.pyplot as plt\n",
    "import numpy as np"
   ]
  },
  {
   "cell_type": "code",
   "execution_count": 2,
   "metadata": {},
   "outputs": [
    {
     "data": {
      "text/html": [
       "<div>\n",
       "<style scoped>\n",
       "    .dataframe tbody tr th:only-of-type {\n",
       "        vertical-align: middle;\n",
       "    }\n",
       "\n",
       "    .dataframe tbody tr th {\n",
       "        vertical-align: top;\n",
       "    }\n",
       "\n",
       "    .dataframe thead th {\n",
       "        text-align: right;\n",
       "    }\n",
       "</style>\n",
       "<table border=\"1\" class=\"dataframe\">\n",
       "  <thead>\n",
       "    <tr style=\"text-align: right;\">\n",
       "      <th></th>\n",
       "      <th>PULocationID</th>\n",
       "      <th>DOLocationID</th>\n",
       "      <th>trip_miles</th>\n",
       "      <th>trip_time</th>\n",
       "      <th>tips</th>\n",
       "      <th>passenger_count</th>\n",
       "      <th>payment_type</th>\n",
       "      <th>total_fare</th>\n",
       "    </tr>\n",
       "  </thead>\n",
       "  <tbody>\n",
       "    <tr>\n",
       "      <th>count</th>\n",
       "      <td>2.750106e+07</td>\n",
       "      <td>2.750106e+07</td>\n",
       "      <td>2.750106e+07</td>\n",
       "      <td>2.750106e+07</td>\n",
       "      <td>2.750106e+07</td>\n",
       "      <td>2.750106e+07</td>\n",
       "      <td>2.750106e+07</td>\n",
       "      <td>2.750106e+07</td>\n",
       "    </tr>\n",
       "    <tr>\n",
       "      <th>mean</th>\n",
       "      <td>1.644001e+02</td>\n",
       "      <td>1.627727e+02</td>\n",
       "      <td>3.367772e+00</td>\n",
       "      <td>1.041107e+03</td>\n",
       "      <td>2.784771e+00</td>\n",
       "      <td>1.472437e+00</td>\n",
       "      <td>1.243032e+00</td>\n",
       "      <td>2.086696e+01</td>\n",
       "    </tr>\n",
       "    <tr>\n",
       "      <th>std</th>\n",
       "      <td>6.497179e+01</td>\n",
       "      <td>7.015249e+01</td>\n",
       "      <td>1.008483e+02</td>\n",
       "      <td>3.424228e+03</td>\n",
       "      <td>3.463066e+00</td>\n",
       "      <td>1.029294e+00</td>\n",
       "      <td>4.647517e-01</td>\n",
       "      <td>1.723943e+01</td>\n",
       "    </tr>\n",
       "    <tr>\n",
       "      <th>min</th>\n",
       "      <td>1.000000e+00</td>\n",
       "      <td>1.000000e+00</td>\n",
       "      <td>-1.352000e+01</td>\n",
       "      <td>-8.230820e+05</td>\n",
       "      <td>0.000000e+00</td>\n",
       "      <td>1.000000e+00</td>\n",
       "      <td>1.000000e+00</td>\n",
       "      <td>-5.551115e-17</td>\n",
       "    </tr>\n",
       "    <tr>\n",
       "      <th>25%</th>\n",
       "      <td>1.320000e+02</td>\n",
       "      <td>1.130000e+02</td>\n",
       "      <td>1.020000e+00</td>\n",
       "      <td>4.230000e+02</td>\n",
       "      <td>0.000000e+00</td>\n",
       "      <td>1.000000e+00</td>\n",
       "      <td>1.000000e+00</td>\n",
       "      <td>1.180000e+01</td>\n",
       "    </tr>\n",
       "    <tr>\n",
       "      <th>50%</th>\n",
       "      <td>1.620000e+02</td>\n",
       "      <td>1.620000e+02</td>\n",
       "      <td>1.730000e+00</td>\n",
       "      <td>7.020000e+02</td>\n",
       "      <td>2.150000e+00</td>\n",
       "      <td>1.000000e+00</td>\n",
       "      <td>1.000000e+00</td>\n",
       "      <td>1.570000e+01</td>\n",
       "    </tr>\n",
       "    <tr>\n",
       "      <th>75%</th>\n",
       "      <td>2.340000e+02</td>\n",
       "      <td>2.340000e+02</td>\n",
       "      <td>3.230000e+00</td>\n",
       "      <td>1.147000e+03</td>\n",
       "      <td>3.550000e+00</td>\n",
       "      <td>2.000000e+00</td>\n",
       "      <td>1.000000e+00</td>\n",
       "      <td>2.230000e+01</td>\n",
       "    </tr>\n",
       "    <tr>\n",
       "      <th>max</th>\n",
       "      <td>2.650000e+02</td>\n",
       "      <td>2.650000e+02</td>\n",
       "      <td>1.403852e+05</td>\n",
       "      <td>4.278920e+05</td>\n",
       "      <td>1.140440e+03</td>\n",
       "      <td>9.000000e+00</td>\n",
       "      <td>5.000000e+00</td>\n",
       "      <td>6.997850e+03</td>\n",
       "    </tr>\n",
       "  </tbody>\n",
       "</table>\n",
       "</div>"
      ],
      "text/plain": [
       "       PULocationID  DOLocationID    trip_miles     trip_time          tips  \\\n",
       "count  2.750106e+07  2.750106e+07  2.750106e+07  2.750106e+07  2.750106e+07   \n",
       "mean   1.644001e+02  1.627727e+02  3.367772e+00  1.041107e+03  2.784771e+00   \n",
       "std    6.497179e+01  7.015249e+01  1.008483e+02  3.424228e+03  3.463066e+00   \n",
       "min    1.000000e+00  1.000000e+00 -1.352000e+01 -8.230820e+05  0.000000e+00   \n",
       "25%    1.320000e+02  1.130000e+02  1.020000e+00  4.230000e+02  0.000000e+00   \n",
       "50%    1.620000e+02  1.620000e+02  1.730000e+00  7.020000e+02  2.150000e+00   \n",
       "75%    2.340000e+02  2.340000e+02  3.230000e+00  1.147000e+03  3.550000e+00   \n",
       "max    2.650000e+02  2.650000e+02  1.403852e+05  4.278920e+05  1.140440e+03   \n",
       "\n",
       "       passenger_count  payment_type    total_fare  \n",
       "count     2.750106e+07  2.750106e+07  2.750106e+07  \n",
       "mean      1.472437e+00  1.243032e+00  2.086696e+01  \n",
       "std       1.029294e+00  4.647517e-01  1.723943e+01  \n",
       "min       1.000000e+00  1.000000e+00 -5.551115e-17  \n",
       "25%       1.000000e+00  1.000000e+00  1.180000e+01  \n",
       "50%       1.000000e+00  1.000000e+00  1.570000e+01  \n",
       "75%       2.000000e+00  1.000000e+00  2.230000e+01  \n",
       "max       9.000000e+00  5.000000e+00  6.997850e+03  "
      ]
     },
     "execution_count": 2,
     "metadata": {},
     "output_type": "execute_result"
    }
   ],
   "source": [
    "df = pd.read_parquet('yellow_taxis_final_yellow_taxis_transformado_merged1.parquet')\n",
    "df.describe()\n",
    "\n"
   ]
  },
  {
   "cell_type": "markdown",
   "metadata": {},
   "source": [
    "En la descripción previa observamos valores extremos (máximos y mínimos) bastante llamativos, lo cual podría indicar la existencia de outliers en las columnas trip_miles, trip_time y total_fare.\n",
    "A continuación efectuaremos algunos análisis que nos ayudarán a establecer los criterios necesarios para filtrarlos.\n",
    "La tarifa mínima a cobrar cuando tomamos un taxi amarillo en la ciudad de Nueva York es de 3 dólares, por lo cual eliminaremos todos aquellos registros con tarifas menores.\n",
    "A partir de allí debemos sumar 70 centavos por cada quinto de milla recorrida (https://www.nyc.gov/site/tlc/passengers/taxi-fare.page). Por lo cual filtraremos todos aquellos valores que tengan trip_miles menores a 0,2 millas.\n",
    "Los registros con viajes en disputa (payment_type = 4) en su gran mayoría contienen valores espejados de tarifa cobrada. Es decir, un viaje donde se facturó un monto X y luego otro donde se facturó el monto -X. En ambos casos el monto final a cobrar fue de $0. Eliminaremos también estos registros.\n",
    "Adicionalmente eliminaremos aquellos registros con duración de viaje negativos."
   ]
  },
  {
   "cell_type": "code",
   "execution_count": 3,
   "metadata": {},
   "outputs": [],
   "source": [
    "# Filtramos para cobros mayores a la tarifa mínima ($ 3) y también eliminamos los registros con disputa (payment type = 4). \n",
    "# Filtramos tiempos de viaje negativos y millaje inferior a 0,2 millas.\n",
    "\n",
    "df = df[(df['payment_type'] != 4) & (df['total_fare'] > 3)]\n",
    "df = df[(df['trip_time'] > 0) & (df['trip_miles'] > 0.2)]\n",
    "\n",
    "df.reset_index(inplace=True, drop=True)"
   ]
  },
  {
   "cell_type": "markdown",
   "metadata": {},
   "source": [
    "Ahora comenzaremos analizando la columna total_fare para limitar el valor máximo a incluir en nuestra tabla."
   ]
  },
  {
   "cell_type": "code",
   "execution_count": 4,
   "metadata": {},
   "outputs": [
    {
     "name": "stdout",
     "output_type": "stream",
     "text": [
      "whiskers\n",
      "[11.80000019  3.0999999 ]\n",
      "[22.29999924 38.04999924]\n",
      "caps\n",
      "[3.1 3.1]\n",
      "[38.05 38.05]\n",
      "boxes\n",
      "[11.80000019 11.80000019 22.29999924 22.29999924 11.80000019]\n",
      "medians\n",
      "[15.80000019 15.80000019]\n",
      "fliers\n",
      "[52.56 58.56 58.56 ... 89.08 43.   42.  ]\n",
      "means\n"
     ]
    },
    {
     "data": {
      "image/png": "[encoded data removed]",
      "text/plain": [
       "<Figure size 640x480 with 1 Axes>"
      ]
     },
     "metadata": {},
     "output_type": "display_data"
    }
   ],
   "source": [
    "# Hacemos un boxplot de total_fare e imprimimos sus parámetros\n",
    "boxplot = plt.boxplot(df['total_fare'])\n",
    "for i in ['whiskers', 'caps', 'boxes', 'medians', 'fliers', 'means']:\n",
    "    print(i)\n",
    "    for line in boxplot[i]:\n",
    "        print(line.get_ydata())\n",
    "\n"
   ]
  },
  {
   "cell_type": "code",
   "execution_count": 5,
   "metadata": {},
   "outputs": [
    {
     "name": "stdout",
     "output_type": "stream",
     "text": [
      "whiskers\n",
      "[11.80000019  3.0999999 ]\n",
      "[22.29999924 38.04999924]\n",
      "caps\n",
      "[3.1 3.1]\n",
      "[38.05 38.05]\n",
      "boxes\n",
      "[11.80000019 11.80000019 22.29999924 22.29999924 11.80000019]\n",
      "medians\n",
      "[15.80000019 15.80000019]\n",
      "fliers\n",
      "[52.56 58.56 58.56 ... 89.08 43.   42.  ]\n",
      "means\n"
     ]
    },
    {
     "data": {
      "image/png": "[encoded data removed]",
      "text/plain": [
       "<Figure size 640x480 with 1 Axes>"
      ]
     },
     "metadata": {},
     "output_type": "display_data"
    }
   ],
   "source": [
    "# Para analizar mejor qué sucede en el gráfico, nos limitamos a ver los valores inferiores a 200\n",
    "df1 = df[df['total_fare'] < 200]\n",
    "boxplot = plt.boxplot(df1['total_fare'])\n",
    "for i in ['whiskers', 'caps', 'boxes', 'medians', 'fliers', 'means']:\n",
    "    print(i)\n",
    "    for line in boxplot[i]:\n",
    "        print(line.get_ydata())\n"
   ]
  },
  {
   "cell_type": "markdown",
   "metadata": {},
   "source": [
    "Continuaremos ahora con el análisis de trip_miles."
   ]
  },
  {
   "cell_type": "code",
   "execution_count": 6,
   "metadata": {},
   "outputs": [
    {
     "name": "stdout",
     "output_type": "stream",
     "text": [
      "whiskers\n",
      "[1.07000005 0.20999999]\n",
      "[3.29999995 6.63999987]\n",
      "caps\n",
      "[0.21 0.21]\n",
      "[6.64 6.64]\n",
      "boxes\n",
      "[1.07000005 1.07000005 3.29999995 3.29999995 1.07000005]\n",
      "medians\n",
      "[1.77999997 1.77999997]\n",
      "fliers\n",
      "[ 6.93  6.8   6.8  ... 17.84  9.5  10.2 ]\n",
      "means\n"
     ]
    },
    {
     "data": {
      "image/png": "[encoded data removed]",
      "text/plain": [
       "<Figure size 640x480 with 1 Axes>"
      ]
     },
     "metadata": {},
     "output_type": "display_data"
    }
   ],
   "source": [
    "# Hacemos un boxplot de trip_miles e imprimimos sus parámetros\n",
    "boxplot = plt.boxplot(df['trip_miles'])\n",
    "for i in ['whiskers', 'caps', 'boxes', 'medians', 'fliers', 'means']:\n",
    "    print(i)\n",
    "    for line in boxplot[i]:\n",
    "        print(line.get_ydata())"
   ]
  },
  {
   "cell_type": "code",
   "execution_count": 7,
   "metadata": {},
   "outputs": [
    {
     "name": "stdout",
     "output_type": "stream",
     "text": [
      "whiskers\n",
      "[1.07000005 0.20999999]\n",
      "[3.29999995 6.63999987]\n",
      "caps\n",
      "[0.21 0.21]\n",
      "[6.64 6.64]\n",
      "boxes\n",
      "[1.07000005 1.07000005 3.29999995 3.29999995 1.07000005]\n",
      "medians\n",
      "[1.77999997 1.77999997]\n",
      "fliers\n",
      "[ 6.93  6.8   6.8  ... 17.84  9.5  10.2 ]\n",
      "means\n"
     ]
    },
    {
     "data": {
      "image/png": "[encoded data removed]",
      "text/plain": [
       "<Figure size 640x480 with 1 Axes>"
      ]
     },
     "metadata": {},
     "output_type": "display_data"
    }
   ],
   "source": [
    "# Para analizar mejor qué sucede en el gráfico, nos limitamos a ver los valores inferiores a 50\n",
    "df1 = df[df['trip_miles'] < 50]\n",
    "boxplot = plt.boxplot(df1['trip_miles'])\n",
    "for i in ['whiskers', 'caps', 'boxes', 'medians', 'fliers', 'means']:\n",
    "    print(i)\n",
    "    for line in boxplot[i]:\n",
    "        print(line.get_ydata())\n"
   ]
  },
  {
   "cell_type": "markdown",
   "metadata": {},
   "source": [
    "Finalizamos analizando la columna trip_time."
   ]
  },
  {
   "cell_type": "code",
   "execution_count": 8,
   "metadata": {},
   "outputs": [
    {
     "name": "stdout",
     "output_type": "stream",
     "text": [
      "whiskers\n",
      "[433.   1.]\n",
      "[1153. 2233.]\n",
      "caps\n",
      "[1 1]\n",
      "[2233 2233]\n",
      "boxes\n",
      "[ 433.  433. 1153. 1153.  433.]\n",
      "medians\n",
      "[710. 710.]\n",
      "fliers\n",
      "[82822 83358 86220 ...  3628  2407  5480]\n",
      "means\n"
     ]
    },
    {
     "data": {
      "image/png": "[encoded data removed]",
      "text/plain": [
       "<Figure size 640x480 with 1 Axes>"
      ]
     },
     "metadata": {},
     "output_type": "display_data"
    }
   ],
   "source": [
    "# Hacemos un boxplot de trip_time e imprimimos sus parámetros\n",
    "boxplot = plt.boxplot(df['trip_time'])\n",
    "for i in ['whiskers', 'caps', 'boxes', 'medians', 'fliers', 'means']:\n",
    "    print(i)\n",
    "    for line in boxplot[i]:\n",
    "        print(line.get_ydata())"
   ]
  },
  {
   "cell_type": "code",
   "execution_count": 9,
   "metadata": {},
   "outputs": [
    {
     "name": "stdout",
     "output_type": "stream",
     "text": [
      "whiskers\n",
      "[432.   1.]\n",
      "[1149. 2224.]\n",
      "caps\n",
      "[1 1]\n",
      "[2224 2224]\n",
      "boxes\n",
      "[ 432.  432. 1149. 1149.  432.]\n",
      "medians\n",
      "[709. 709.]\n",
      "fliers\n",
      "[2498 2322 2285 ... 3628 2407 5480]\n",
      "means\n"
     ]
    },
    {
     "data": {
      "image/png": "[encoded data removed]",
      "text/plain": [
       "<Figure size 640x480 with 1 Axes>"
      ]
     },
     "metadata": {},
     "output_type": "display_data"
    }
   ],
   "source": [
    "# Para analizar mejor qué sucede en el gráfico, nos limitamos a ver los valores inferiores a 10000\n",
    "df1 = df[df['trip_time'] < 10000]\n",
    "boxplot = plt.boxplot(df1['trip_time'])\n",
    "for i in ['whiskers', 'caps', 'boxes', 'medians', 'fliers', 'means']:\n",
    "    print(i)\n",
    "    for line in boxplot[i]:\n",
    "        print(line.get_ydata())"
   ]
  },
  {
   "cell_type": "markdown",
   "metadata": {},
   "source": [
    "En virtud de los valores observados, tanto en los diagramas de caja como en los resultados observados en el 'describe()' inicial de nuestro análisis, definimos las siguientes restricciones para filtrar nuestros datos:\n",
    "\n",
    "* 200 > 'total_fare' >= 3 (dólares norteamericanos)\n",
    "\n",
    "* 50 > 'trip_miles' >= 0.2 (millas)\n",
    "\n",
    "* 5000 > 'trip_time' >= 100 (segundos)\n",
    "\n"
   ]
  },
  {
   "cell_type": "code",
   "execution_count": 10,
   "metadata": {},
   "outputs": [],
   "source": [
    "# Filtros\n",
    "\n",
    "df = df[(df['total_fare'] >= 3) & (df['total_fare'] < 200)]\n",
    "df = df[(df['trip_miles'] >= 0.2) & (df['trip_miles'] < 50)]\n",
    "df = df[(df['trip_time'] >= 100) & (df['trip_time'] < 5000)]\n",
    "df.reset_index(inplace=True, drop=True)\n",
    "\n"
   ]
  },
  {
   "cell_type": "code",
   "execution_count": 11,
   "metadata": {},
   "outputs": [],
   "source": [
    "df.reset_index(inplace=True, drop=True)"
   ]
  },
  {
   "cell_type": "code",
   "execution_count": 12,
   "metadata": {},
   "outputs": [
    {
     "name": "stdout",
     "output_type": "stream",
     "text": [
      "<class 'pandas.core.frame.DataFrame'>\n",
      "RangeIndex: 26706731 entries, 0 to 26706730\n",
      "Data columns (total 16 columns):\n",
      " #   Column           Dtype  \n",
      "---  ------           -----  \n",
      " 0   PUDate           object \n",
      " 1   PUTime           object \n",
      " 2   PULocationID     int32  \n",
      " 3   PUBorough        object \n",
      " 4   PUZone           object \n",
      " 5   DODate           object \n",
      " 6   DOTime           object \n",
      " 7   DOLocationID     int32  \n",
      " 8   DOBorough        object \n",
      " 9   DOZone           object \n",
      " 10  trip_miles       float32\n",
      " 11  trip_time        int32  \n",
      " 12  tips             float32\n",
      " 13  passenger_count  int32  \n",
      " 14  payment_type     int32  \n",
      " 15  total_fare       float32\n",
      "dtypes: float32(3), int32(5), object(8)\n",
      "memory usage: 2.4+ GB\n"
     ]
    }
   ],
   "source": [
    "df.info()"
   ]
  }
 ],
 "metadata": {
  "kernelspec": {
   "display_name": "Python 3",
   "language": "python",
   "name": "python3"
  },
  "language_info": {
   "codemirror_mode": {
    "name": "ipython",
    "version": 3
   },
   "file_extension": ".py",
   "mimetype": "text/x-python",
   "name": "python",
   "nbconvert_exporter": "python",
   "pygments_lexer": "ipython3",
   "version": "3.11.6"
  }
 },
 "nbformat": 4,
 "nbformat_minor": 2
}
