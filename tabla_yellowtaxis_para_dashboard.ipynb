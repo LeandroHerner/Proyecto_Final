{
 "cells": [
  {
   "cell_type": "code",
   "execution_count": 2,
   "metadata": {},
   "outputs": [],
   "source": [
    "import pandas as pd\n",
    "import numpy as np"
   ]
  },
  {
   "cell_type": "code",
   "execution_count": 3,
   "metadata": {},
   "outputs": [],
   "source": [
    "# Leo el dataframe\n",
    "path = \"yellow_taxis_final/yellow_taxis_final_yellow_taxis_transformado_merged.parquet\"\n",
    "df = pd.read_parquet(path)"
   ]
  },
  {
   "cell_type": "code",
   "execution_count": 5,
   "metadata": {},
   "outputs": [],
   "source": [
    "# Convierto datos numéricos a 32 bit para optimizar procesamiento\n",
    "\n",
    "df['PULocationID'] = df['PULocationID'].astype('int32')\n",
    "df['DOLocationID'] = df['DOLocationID'].astype('int32')\n",
    "df['trip_miles'] = df['trip_miles'].astype('float32')\n",
    "df['trip_time'] = df['trip_time'].astype('int32')\n",
    "df['tips'] = df['tips'].astype('float32')\n",
    "df['passenger_count'] = df['passenger_count'].astype('int32')\n",
    "df['payment_type'] = df['payment_type'].astype('int32')\n",
    "df['total_fare'] = df['total_fare'].astype('float32')"
   ]
  },
  {
   "cell_type": "code",
   "execution_count": 6,
   "metadata": {},
   "outputs": [],
   "source": [
    "# Filtramos outliers\n",
    "\n",
    "df = df[(df['total_fare'] >= 3) & (df['total_fare'] < 200)]\n",
    "df = df[(df['trip_miles'] >= 0.2) & (df['trip_miles'] < 50)]\n",
    "df = df[(df['trip_time'] >= 100) & (df['trip_time'] < 5000)]\n",
    "df.reset_index(inplace=True, drop=True)\n",
    "\n"
   ]
  },
  {
   "cell_type": "code",
   "execution_count": 8,
   "metadata": {},
   "outputs": [],
   "source": [
    "# Creamos 2 nuevas columnas necesarias para graficar KPI´s en Looker\n",
    "\n",
    "# Columna de turnos: Genera tres turnos\n",
    "# Turno 1 : De 4 AM a 12 PM\n",
    "# Turno 2 : De 12 PM a 8 PM\n",
    "# Turno 3 : De 8 PM a 4 AM\n",
    "\n",
    "# Define la función para asignar los valores\n",
    "def asignar_banda(hora):\n",
    "    if 4 <= hora.hour < 12:\n",
    "        return 1\n",
    "    elif 12 <= hora.hour < 20:\n",
    "        return 2\n",
    "    else:  # 20 <= hora.hour < 4\n",
    "        return 3\n",
    "\n",
    "# Crea la nueva columna de turno\n",
    "df['ride'] = df['PUTime'].apply(asignar_banda)\n",
    "df['ride'] = df['ride'].astype('int32')\n"
   ]
  },
  {
   "cell_type": "code",
   "execution_count": 9,
   "metadata": {},
   "outputs": [],
   "source": [
    "# Columna de tarifa cobrada por milla recorrida\n",
    "\n",
    "df['fare_mile'] = df['total_fare'] / df['trip_miles']\n",
    "df['fare_mile'] = df['fare_mile'].astype('float32')\n"
   ]
  },
  {
   "cell_type": "code",
   "execution_count": 12,
   "metadata": {},
   "outputs": [],
   "source": [
    "# Guardamos el archivo localmente para ser subido a Storage\n",
    "\n",
    "df.to_parquet(\"yellow_taxis_final/tabla_yellowtaxis_dashboard.parquet\")"
   ]
  }
 ],
 "metadata": {
  "kernelspec": {
   "display_name": "Python 3",
   "language": "python",
   "name": "python3"
  },
  "language_info": {
   "codemirror_mode": {
    "name": "ipython",
    "version": 3
   },
   "file_extension": ".py",
   "mimetype": "text/x-python",
   "name": "python",
   "nbconvert_exporter": "python",
   "pygments_lexer": "ipython3",
   "version": "3.11.2"
  }
 },
 "nbformat": 4,
 "nbformat_minor": 2
}
